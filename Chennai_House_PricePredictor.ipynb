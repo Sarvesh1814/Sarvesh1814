{
 "cells": [
  {
   "cell_type": "markdown",
   "metadata": {},
   "source": [
    "# Chennai House Price Predictor \n",
    "                                                     Project by: Bagwe Sarvesh  "
   ]
  },
  {
   "cell_type": "markdown",
   "metadata": {},
   "source": [
    "## Importing Libraries"
   ]
  },
  {
   "cell_type": "code",
   "execution_count": 1,
   "metadata": {},
   "outputs": [],
   "source": [
    "import pandas as pd\n",
    "import numpy as np\n",
    "import seaborn as sns \n",
    "import matplotlib.pyplot as plt \n"
   ]
  },
  {
   "cell_type": "markdown",
   "metadata": {},
   "source": [
    "#Dataset Source: https://www.kaggle.com/ruchi798/housing-prices-in-metropolitan-areas-of-india?select=Chennai.csv"
   ]
  },
  {
   "cell_type": "code",
   "execution_count": 2,
   "metadata": {},
   "outputs": [
    {
     "data": {
      "text/html": [
       "<div>\n",
       "<style scoped>\n",
       "    .dataframe tbody tr th:only-of-type {\n",
       "        vertical-align: middle;\n",
       "    }\n",
       "\n",
       "    .dataframe tbody tr th {\n",
       "        vertical-align: top;\n",
       "    }\n",
       "\n",
       "    .dataframe thead th {\n",
       "        text-align: right;\n",
       "    }\n",
       "</style>\n",
       "<table border=\"1\" class=\"dataframe\">\n",
       "  <thead>\n",
       "    <tr style=\"text-align: right;\">\n",
       "      <th></th>\n",
       "      <th>Price</th>\n",
       "      <th>Area</th>\n",
       "      <th>Location</th>\n",
       "      <th>No. of Bedrooms</th>\n",
       "      <th>Resale</th>\n",
       "      <th>MaintenanceStaff</th>\n",
       "      <th>Gymnasium</th>\n",
       "      <th>SwimmingPool</th>\n",
       "      <th>LandscapedGardens</th>\n",
       "      <th>JoggingTrack</th>\n",
       "      <th>...</th>\n",
       "      <th>LiftAvailable</th>\n",
       "      <th>BED</th>\n",
       "      <th>VaastuCompliant</th>\n",
       "      <th>Microwave</th>\n",
       "      <th>GolfCourse</th>\n",
       "      <th>TV</th>\n",
       "      <th>DiningTable</th>\n",
       "      <th>Sofa</th>\n",
       "      <th>Wardrobe</th>\n",
       "      <th>Refrigerator</th>\n",
       "    </tr>\n",
       "  </thead>\n",
       "  <tbody>\n",
       "    <tr>\n",
       "      <th>0</th>\n",
       "      <td>5500000</td>\n",
       "      <td>1310</td>\n",
       "      <td>Perungalathur</td>\n",
       "      <td>3</td>\n",
       "      <td>0</td>\n",
       "      <td>0</td>\n",
       "      <td>0</td>\n",
       "      <td>0</td>\n",
       "      <td>0</td>\n",
       "      <td>0</td>\n",
       "      <td>...</td>\n",
       "      <td>0</td>\n",
       "      <td>0</td>\n",
       "      <td>0</td>\n",
       "      <td>0</td>\n",
       "      <td>0</td>\n",
       "      <td>0</td>\n",
       "      <td>0</td>\n",
       "      <td>0</td>\n",
       "      <td>0</td>\n",
       "      <td>0</td>\n",
       "    </tr>\n",
       "    <tr>\n",
       "      <th>1</th>\n",
       "      <td>5350000</td>\n",
       "      <td>1126</td>\n",
       "      <td>Madhavaram</td>\n",
       "      <td>2</td>\n",
       "      <td>0</td>\n",
       "      <td>0</td>\n",
       "      <td>1</td>\n",
       "      <td>1</td>\n",
       "      <td>1</td>\n",
       "      <td>0</td>\n",
       "      <td>...</td>\n",
       "      <td>1</td>\n",
       "      <td>0</td>\n",
       "      <td>0</td>\n",
       "      <td>0</td>\n",
       "      <td>0</td>\n",
       "      <td>0</td>\n",
       "      <td>0</td>\n",
       "      <td>0</td>\n",
       "      <td>0</td>\n",
       "      <td>0</td>\n",
       "    </tr>\n",
       "    <tr>\n",
       "      <th>2</th>\n",
       "      <td>8205000</td>\n",
       "      <td>1307</td>\n",
       "      <td>Karapakkam</td>\n",
       "      <td>3</td>\n",
       "      <td>0</td>\n",
       "      <td>0</td>\n",
       "      <td>1</td>\n",
       "      <td>1</td>\n",
       "      <td>1</td>\n",
       "      <td>1</td>\n",
       "      <td>...</td>\n",
       "      <td>0</td>\n",
       "      <td>0</td>\n",
       "      <td>0</td>\n",
       "      <td>0</td>\n",
       "      <td>0</td>\n",
       "      <td>0</td>\n",
       "      <td>0</td>\n",
       "      <td>0</td>\n",
       "      <td>0</td>\n",
       "      <td>0</td>\n",
       "    </tr>\n",
       "    <tr>\n",
       "      <th>3</th>\n",
       "      <td>23400000</td>\n",
       "      <td>3600</td>\n",
       "      <td>Thiruvidandhai</td>\n",
       "      <td>3</td>\n",
       "      <td>0</td>\n",
       "      <td>0</td>\n",
       "      <td>1</td>\n",
       "      <td>1</td>\n",
       "      <td>0</td>\n",
       "      <td>1</td>\n",
       "      <td>...</td>\n",
       "      <td>0</td>\n",
       "      <td>0</td>\n",
       "      <td>0</td>\n",
       "      <td>0</td>\n",
       "      <td>0</td>\n",
       "      <td>0</td>\n",
       "      <td>0</td>\n",
       "      <td>0</td>\n",
       "      <td>0</td>\n",
       "      <td>0</td>\n",
       "    </tr>\n",
       "    <tr>\n",
       "      <th>4</th>\n",
       "      <td>10100000</td>\n",
       "      <td>1700</td>\n",
       "      <td>Iyappanthangal</td>\n",
       "      <td>3</td>\n",
       "      <td>0</td>\n",
       "      <td>0</td>\n",
       "      <td>1</td>\n",
       "      <td>1</td>\n",
       "      <td>1</td>\n",
       "      <td>1</td>\n",
       "      <td>...</td>\n",
       "      <td>0</td>\n",
       "      <td>0</td>\n",
       "      <td>1</td>\n",
       "      <td>0</td>\n",
       "      <td>0</td>\n",
       "      <td>0</td>\n",
       "      <td>0</td>\n",
       "      <td>0</td>\n",
       "      <td>0</td>\n",
       "      <td>0</td>\n",
       "    </tr>\n",
       "  </tbody>\n",
       "</table>\n",
       "<p>5 rows × 40 columns</p>\n",
       "</div>"
      ],
      "text/plain": [
       "      Price  Area        Location  No. of Bedrooms  Resale  MaintenanceStaff  \\\n",
       "0   5500000  1310   Perungalathur                3       0                 0   \n",
       "1   5350000  1126      Madhavaram                2       0                 0   \n",
       "2   8205000  1307      Karapakkam                3       0                 0   \n",
       "3  23400000  3600  Thiruvidandhai                3       0                 0   \n",
       "4  10100000  1700  Iyappanthangal                3       0                 0   \n",
       "\n",
       "   Gymnasium  SwimmingPool  LandscapedGardens  JoggingTrack  ...  \\\n",
       "0          0             0                  0             0  ...   \n",
       "1          1             1                  1             0  ...   \n",
       "2          1             1                  1             1  ...   \n",
       "3          1             1                  0             1  ...   \n",
       "4          1             1                  1             1  ...   \n",
       "\n",
       "   LiftAvailable  BED  VaastuCompliant  Microwave  GolfCourse  TV  \\\n",
       "0              0    0                0          0           0   0   \n",
       "1              1    0                0          0           0   0   \n",
       "2              0    0                0          0           0   0   \n",
       "3              0    0                0          0           0   0   \n",
       "4              0    0                1          0           0   0   \n",
       "\n",
       "   DiningTable  Sofa  Wardrobe  Refrigerator  \n",
       "0            0     0         0             0  \n",
       "1            0     0         0             0  \n",
       "2            0     0         0             0  \n",
       "3            0     0         0             0  \n",
       "4            0     0         0             0  \n",
       "\n",
       "[5 rows x 40 columns]"
      ]
     },
     "execution_count": 2,
     "metadata": {},
     "output_type": "execute_result"
    }
   ],
   "source": [
    "df=pd.read_csv(\"Chennai.csv\")\n",
    "df.head()"
   ]
  },
  {
   "cell_type": "markdown",
   "metadata": {},
   "source": [
    "# Data Cleaning "
   ]
  },
  {
   "cell_type": "code",
   "execution_count": 3,
   "metadata": {},
   "outputs": [
    {
     "data": {
      "text/plain": [
       "Medavakkam         230\n",
       "Ambattur           195\n",
       "Sholinganallur     177\n",
       "Karapakkam         161\n",
       "Iyappanthangal     158\n",
       "                  ... \n",
       "Ponniammanmedu       1\n",
       "Abiramapuram         1\n",
       "Irandankattalai      1\n",
       "Ottiyambakkam        1\n",
       "CIT Nagar            1\n",
       "Name: Location, Length: 185, dtype: int64"
      ]
     },
     "execution_count": 3,
     "metadata": {},
     "output_type": "execute_result"
    }
   ],
   "source": [
    "df['Location'].value_counts()"
   ]
  },
  {
   "cell_type": "markdown",
   "metadata": {},
   "source": [
    "### Removing those rows whose value count is 1 "
   ]
  },
  {
   "cell_type": "code",
   "execution_count": 4,
   "metadata": {},
   "outputs": [
    {
     "name": "stdout",
     "output_type": "stream",
     "text": [
      "['Medavakkam', 'Ambattur', 'Sholinganallur', 'Karapakkam', 'Iyappanthangal', 'Nanmangalam', 'Avadi', 'Navallur', 'Mogappair', 'Selaiyur', 'Perumbakkam', 'Thoraipakkam OMR', 'Madipakkam', 'Pammal', 'Vadapalani', 'Pallikaranai', 'Porur', 'Kovilambakkam', 'Kovur', 'Anna Nagar', 'Madambakkam', 'Korattur', 'Padur', 'Poonamallee', 'Kolapakkam', 'Kelambakkam', 'Velachery', 'Thiruvanmiyur', 'Ayanambakkam', 'Thiruverkadu', 'Chromepet', 'Perungalathur', 'tambaram west', 'Kilkattalai', 'Moolacheri', 'Pallavaram', 'Mugalivakkam', 'Kolathur', 'Nungambakkam', 'Thalambur', 'Sunnambu Kolathur S Kolathur', 'Guduvancheri', 'Perungudi', 'Manapakkam', 'Maduravoyal', 'Raja Annamalai Puram', 'Adyar', 'Egmore', 'Iyyappanthangal', 'Pozhichalur', 'Sembakkam', 'Vengaivasal', 'Sithalapakkam', 'Manikandan Nagar', 'Kanathur Reddikuppam', 'Alwarpet', 'Kundrathur', 'Rajakilpakkam', 'Vandalur', 'T Nagar', 'Ullagaram', 'Kattupakkam', 'Choolaimedu', 'Velappanchavadi', 'Mevalurkuppam', 'Valasaravakkam', 'East Tambaram', 'Perambur', 'Maraimalai Nagar', 'Madhavaram', 'Guindy', 'Singaperumal Koil', 'Kilpauk', 'Thoraipakkam', 'Kattankulathur', 'Virugambakkam', 'Tiruvottiyur', 'Adambakkam', 'Gowrivakkam', 'Koyambedu', 'Peerakankaranai', 'Saidapet', 'Ayapakkam', 'Tambaram Sanatoruim', 'West Tambaram', 'Kotturpuram', 'Vanagaram', 'Periyapanicheri', 'Thaiyur', 'Siruseri', 'Vellakkal', 'Jamalia', 'Semmancheri', 'Urapakkam', 'Mahindra World City', 'Royapettah', 'Kodambakkam', 'Annamalai Colony', 'Chetpet', 'Cholambedu', 'Kottivakkam', 'Nanganallur', 'Nandambakkam', 'Chitlapakkam', 'Anakaputhur', 'Gopalapuram', 'Puzhal', 'Annanagar West', 'Mudichur', 'Palavakkam', 'Mogappair East', 'Ponneri', 'Aminjikarai', 'Kil Ayanambakkam', 'Thirumazhisai', 'Thiruvidandhai', 'Vengambakkam', 'Mylapore', 'Kuthambakkam', 'Agaramthen', 'Ramavaram', 'Pazavanthangal', 'Chembarambakkam', 'West Mambalam', 'Ramapuram', 'Mannivakkam', 'Arumbakkam', 'Chengalpattu', 'Ambattur INDUSTRIAL ESTATE', 'Purasawalkam', 'Triplicane', 'Alandur', 'Thirumullaivoyal', 'Egatoor', 'Gerugambakkam', 'Kumananchavadi', 'Moolakadai', 'Teynampet', 'Villivakkam', 'Mambakkam', 'OMR Road', 'Irumbuliyur', 'Tiruporur Near Kelambakkam', 'Tondiarpet', 'Vettuvankani', 'NehruNagar', 'Mappedu', 'Besant Nagar', 'Padi', 'K K Nagar', 'Thatchoor', 'Bakthavatchalapuram', 'TNHB', 'Adhanur', 'Ekkatuthangal', 'Anna Nagar East', 'tambaram east', '200 Feet Radial Road', 'Pudupakkam', 'Thirumudivakkam', 'Serapanacheri', 'Injambakkam', 'Tharapakkam', 'Annanagar', 'Chikkarayapuram', 'Keelma Nagar', 'Ashok Nagar', 'Royapuram', 'Mangadu', 'Purasaiwakkam', 'Thiruneermalai', 'Nandanam', 'Ayanavaram', 'Nenmeli', 'Shanthi Nagar', 'Manali', 'Pallikaranai VGP Shanti Nagar', 'Shenoy Nagar', 'GST Road', 'Egattur', 'Ponniammanmedu', 'Abiramapuram', 'Irandankattalai', 'Ottiyambakkam', 'CIT Nagar']\n"
     ]
    }
   ],
   "source": [
    "list1=df['Location'].value_counts().index.tolist()\n",
    "print(list1)"
   ]
  },
  {
   "cell_type": "code",
   "execution_count": 5,
   "metadata": {},
   "outputs": [
    {
     "data": {
      "text/plain": [
       "30"
      ]
     },
     "execution_count": 5,
     "metadata": {},
     "output_type": "execute_result"
    }
   ],
   "source": [
    "sum(df.Location.value_counts() ==1)"
   ]
  },
  {
   "cell_type": "code",
   "execution_count": 6,
   "metadata": {},
   "outputs": [
    {
     "data": {
      "text/plain": [
       "['Ekkatuthangal',\n",
       " 'Anna Nagar East',\n",
       " 'tambaram east',\n",
       " '200 Feet Radial Road',\n",
       " 'Pudupakkam',\n",
       " 'Thirumudivakkam',\n",
       " 'Serapanacheri',\n",
       " 'Injambakkam',\n",
       " 'Tharapakkam',\n",
       " 'Annanagar',\n",
       " 'Chikkarayapuram',\n",
       " 'Keelma Nagar',\n",
       " 'Ashok Nagar',\n",
       " 'Royapuram',\n",
       " 'Mangadu',\n",
       " 'Purasaiwakkam',\n",
       " 'Thiruneermalai',\n",
       " 'Nandanam',\n",
       " 'Ayanavaram',\n",
       " 'Nenmeli',\n",
       " 'Shanthi Nagar',\n",
       " 'Manali',\n",
       " 'Pallikaranai VGP Shanti Nagar',\n",
       " 'Shenoy Nagar',\n",
       " 'GST Road',\n",
       " 'Egattur',\n",
       " 'Ponniammanmedu',\n",
       " 'Abiramapuram',\n",
       " 'Irandankattalai',\n",
       " 'Ottiyambakkam',\n",
       " 'CIT Nagar']"
      ]
     },
     "execution_count": 6,
     "metadata": {},
     "output_type": "execute_result"
    }
   ],
   "source": [
    "len(list1)\n",
    "list2=[]\n",
    "for i in range(154,185):\n",
    "    list2.append(list1[i])\n",
    "list2"
   ]
  },
  {
   "cell_type": "code",
   "execution_count": 7,
   "metadata": {},
   "outputs": [],
   "source": [
    "for x in list2:\n",
    "    \n",
    "    df.drop(df[df['Location'] == x].index, inplace = True)"
   ]
  },
  {
   "cell_type": "code",
   "execution_count": 8,
   "metadata": {},
   "outputs": [
    {
     "data": {
      "text/plain": [
       "0"
      ]
     },
     "execution_count": 8,
     "metadata": {},
     "output_type": "execute_result"
    }
   ],
   "source": [
    "sum(df.Location.value_counts() ==1)"
   ]
  },
  {
   "cell_type": "code",
   "execution_count": 9,
   "metadata": {},
   "outputs": [
    {
     "data": {
      "text/plain": [
       "False"
      ]
     },
     "execution_count": 9,
     "metadata": {},
     "output_type": "execute_result"
    }
   ],
   "source": [
    "df.isnull().sum().any()"
   ]
  },
  {
   "cell_type": "code",
   "execution_count": 10,
   "metadata": {},
   "outputs": [
    {
     "data": {
      "text/plain": [
       "2    2647\n",
       "3    1701\n",
       "1     392\n",
       "4     227\n",
       "5      15\n",
       "Name: No. of Bedrooms, dtype: int64"
      ]
     },
     "execution_count": 10,
     "metadata": {},
     "output_type": "execute_result"
    }
   ],
   "source": [
    "df['No. of Bedrooms'].value_counts()"
   ]
  },
  {
   "cell_type": "code",
   "execution_count": 11,
   "metadata": {},
   "outputs": [],
   "source": [
    " df.drop(df[df['No. of Bedrooms'] == 5].index, inplace = True)"
   ]
  },
  {
   "cell_type": "code",
   "execution_count": 12,
   "metadata": {},
   "outputs": [
    {
     "data": {
      "text/plain": [
       "9    2746\n",
       "0    2183\n",
       "1      38\n",
       "Name: BED, dtype: int64"
      ]
     },
     "execution_count": 12,
     "metadata": {},
     "output_type": "execute_result"
    }
   ],
   "source": [
    "df['BED'].value_counts() #9 here shows that the value is not available for this critera"
   ]
  },
  {
   "cell_type": "code",
   "execution_count": 13,
   "metadata": {},
   "outputs": [],
   "source": [
    "df.drop('BED',\n",
    "  axis='columns', inplace=True)"
   ]
  },
  {
   "cell_type": "code",
   "execution_count": 14,
   "metadata": {},
   "outputs": [
    {
     "data": {
      "text/plain": [
       "Price                  1.000000\n",
       "Area                   0.405363\n",
       "No. of Bedrooms        0.295056\n",
       "Resale                 0.089083\n",
       "Gymnasium              0.063072\n",
       "SwimmingPool           0.061923\n",
       "PowerBackup            0.060186\n",
       "LandscapedGardens      0.059439\n",
       "ClubHouse              0.059007\n",
       "Children'splayarea     0.058805\n",
       "Intercom               0.058607\n",
       "24X7Security           0.056701\n",
       "IndoorGames            0.055113\n",
       "SportsFacility         0.054871\n",
       "CarParking             0.054158\n",
       "LiftAvailable          0.053918\n",
       "RainWaterHarvesting    0.052972\n",
       "Gasconnection          0.052908\n",
       "JoggingTrack           0.052676\n",
       "VaastuCompliant        0.052655\n",
       "MultipurposeRoom       0.052188\n",
       "Cafeteria              0.051930\n",
       "Sofa                   0.051719\n",
       "WashingMachine         0.051512\n",
       "DiningTable            0.051221\n",
       "Microwave              0.051197\n",
       "AC                     0.051169\n",
       "ShoppingMall           0.050798\n",
       "StaffQuarter           0.050711\n",
       "Refrigerator           0.050600\n",
       "TV                     0.050449\n",
       "MaintenanceStaff       0.050206\n",
       "Hospital               0.049928\n",
       "School                 0.049723\n",
       "Wifi                   0.049628\n",
       "GolfCourse             0.049628\n",
       "Wardrobe               0.049628\n",
       "ATM                    0.049311\n",
       "Name: Price, dtype: float64"
      ]
     },
     "execution_count": 14,
     "metadata": {},
     "output_type": "execute_result"
    }
   ],
   "source": [
    "corr_matrix = df.corr()\n",
    "corr_matrix['Price'].sort_values(ascending=False)"
   ]
  },
  {
   "cell_type": "markdown",
   "metadata": {},
   "source": [
    "### Droping these columns because of lower correlation value"
   ]
  },
  {
   "cell_type": "code",
   "execution_count": 15,
   "metadata": {},
   "outputs": [],
   "source": [
    "df.drop(['VaastuCompliant','MultipurposeRoom','Cafeteria','Sofa','WashingMachine','DiningTable','Microwave','AC','ShoppingMall','StaffQuarter','Refrigerator','TV','MaintenanceStaff','Hospital','School','Wifi','GolfCourse',           \n",
    "'Wardrobe','ATM'],axis=1, inplace=True)"
   ]
  },
  {
   "cell_type": "code",
   "execution_count": 16,
   "metadata": {},
   "outputs": [
    {
     "data": {
      "text/plain": [
       "9    2746\n",
       "0    1115\n",
       "1    1106\n",
       "Name: Gymnasium, dtype: int64"
      ]
     },
     "execution_count": 16,
     "metadata": {},
     "output_type": "execute_result"
    }
   ],
   "source": [
    "df['Gymnasium'].value_counts()"
   ]
  },
  {
   "cell_type": "code",
   "execution_count": 17,
   "metadata": {},
   "outputs": [
    {
     "data": {
      "text/plain": [
       "9    2746\n",
       "0    1379\n",
       "1     842\n",
       "Name: SwimmingPool, dtype: int64"
      ]
     },
     "execution_count": 17,
     "metadata": {},
     "output_type": "execute_result"
    }
   ],
   "source": [
    "df['SwimmingPool'].value_counts()"
   ]
  },
  {
   "cell_type": "code",
   "execution_count": 18,
   "metadata": {},
   "outputs": [
    {
     "data": {
      "text/plain": [
       "9    2746\n",
       "0    1567\n",
       "1     654\n",
       "Name: JoggingTrack, dtype: int64"
      ]
     },
     "execution_count": 18,
     "metadata": {},
     "output_type": "execute_result"
    }
   ],
   "source": [
    "df[\"JoggingTrack\"].value_counts()"
   ]
  },
  {
   "cell_type": "markdown",
   "metadata": {},
   "source": [
    "### We have to drop columns because the 50% of data in that columns were empty and they are not having high correlation value "
   ]
  },
  {
   "cell_type": "code",
   "execution_count": 19,
   "metadata": {},
   "outputs": [],
   "source": [
    "df.drop(['JoggingTrack','SwimmingPool','PowerBackup','Gymnasium','LandscapedGardens','ClubHouse',\"Children'splayarea\",'Intercom','24X7Security','IndoorGames','SportsFacility','CarParking','LiftAvailable','RainWaterHarvesting','Gasconnection' ],axis=1,inplace=True)"
   ]
  },
  {
   "cell_type": "code",
   "execution_count": 20,
   "metadata": {},
   "outputs": [
    {
     "data": {
      "text/html": [
       "<div>\n",
       "<style scoped>\n",
       "    .dataframe tbody tr th:only-of-type {\n",
       "        vertical-align: middle;\n",
       "    }\n",
       "\n",
       "    .dataframe tbody tr th {\n",
       "        vertical-align: top;\n",
       "    }\n",
       "\n",
       "    .dataframe thead th {\n",
       "        text-align: right;\n",
       "    }\n",
       "</style>\n",
       "<table border=\"1\" class=\"dataframe\">\n",
       "  <thead>\n",
       "    <tr style=\"text-align: right;\">\n",
       "      <th></th>\n",
       "      <th>Price</th>\n",
       "      <th>Area</th>\n",
       "      <th>Location</th>\n",
       "      <th>No. of Bedrooms</th>\n",
       "      <th>Resale</th>\n",
       "    </tr>\n",
       "  </thead>\n",
       "  <tbody>\n",
       "    <tr>\n",
       "      <th>0</th>\n",
       "      <td>5500000</td>\n",
       "      <td>1310</td>\n",
       "      <td>Perungalathur</td>\n",
       "      <td>3</td>\n",
       "      <td>0</td>\n",
       "    </tr>\n",
       "    <tr>\n",
       "      <th>1</th>\n",
       "      <td>5350000</td>\n",
       "      <td>1126</td>\n",
       "      <td>Madhavaram</td>\n",
       "      <td>2</td>\n",
       "      <td>0</td>\n",
       "    </tr>\n",
       "    <tr>\n",
       "      <th>2</th>\n",
       "      <td>8205000</td>\n",
       "      <td>1307</td>\n",
       "      <td>Karapakkam</td>\n",
       "      <td>3</td>\n",
       "      <td>0</td>\n",
       "    </tr>\n",
       "    <tr>\n",
       "      <th>3</th>\n",
       "      <td>23400000</td>\n",
       "      <td>3600</td>\n",
       "      <td>Thiruvidandhai</td>\n",
       "      <td>3</td>\n",
       "      <td>0</td>\n",
       "    </tr>\n",
       "    <tr>\n",
       "      <th>4</th>\n",
       "      <td>10100000</td>\n",
       "      <td>1700</td>\n",
       "      <td>Iyappanthangal</td>\n",
       "      <td>3</td>\n",
       "      <td>0</td>\n",
       "    </tr>\n",
       "  </tbody>\n",
       "</table>\n",
       "</div>"
      ],
      "text/plain": [
       "      Price  Area        Location  No. of Bedrooms  Resale\n",
       "0   5500000  1310   Perungalathur                3       0\n",
       "1   5350000  1126      Madhavaram                2       0\n",
       "2   8205000  1307      Karapakkam                3       0\n",
       "3  23400000  3600  Thiruvidandhai                3       0\n",
       "4  10100000  1700  Iyappanthangal                3       0"
      ]
     },
     "execution_count": 20,
     "metadata": {},
     "output_type": "execute_result"
    }
   ],
   "source": [
    "df.head()"
   ]
  },
  {
   "cell_type": "markdown",
   "metadata": {},
   "source": [
    "# Data Visualization"
   ]
  },
  {
   "cell_type": "code",
   "execution_count": 21,
   "metadata": {},
   "outputs": [
    {
     "data": {
      "text/plain": [
       "<AxesSubplot:xlabel='No. of Bedrooms', ylabel='count'>"
      ]
     },
     "execution_count": 21,
     "metadata": {},
     "output_type": "execute_result"
    },
    {
     "data": {
      "image/png": "[encoded data removed]",
      "text/plain": [
       "<Figure size 432x288 with 1 Axes>"
      ]
     },
     "metadata": {
      "needs_background": "light"
     },
     "output_type": "display_data"
    }
   ],
   "source": [
    "sns.countplot(data=df,x=\"No. of Bedrooms\")"
   ]
  },
  {
   "cell_type": "code",
   "execution_count": 22,
   "metadata": {},
   "outputs": [],
   "source": [
    "numerical_data=['Price','Area','No. of Bedrooms','Resale']\n",
    "categorical_data=['Location']\n"
   ]
  },
  {
   "cell_type": "code",
   "execution_count": 23,
   "metadata": {},
   "outputs": [
    {
     "data": {
      "text/plain": [
       "<AxesSubplot:xlabel='No. of Bedrooms', ylabel='Price'>"
      ]
     },
     "execution_count": 23,
     "metadata": {},
     "output_type": "execute_result"
    },
    {
     "data": {
      "image/png": "[encoded data removed]",
      "text/plain": [
       "<Figure size 432x288 with 1 Axes>"
      ]
     },
     "metadata": {
      "needs_background": "light"
     },
     "output_type": "display_data"
    }
   ],
   "source": [
    "sns.barplot(x=df[\"No. of Bedrooms\"],y=df[\"Price\"])"
   ]
  },
  {
   "cell_type": "code",
   "execution_count": 24,
   "metadata": {},
   "outputs": [
    {
     "data": {
      "text/plain": [
       "<Figure size 1080x1080 with 0 Axes>"
      ]
     },
     "execution_count": 24,
     "metadata": {},
     "output_type": "execute_result"
    },
    {
     "data": {
      "image/png": "[encoded data removed]",
      "text/plain": [
       "<Figure size 432x288 with 1 Axes>"
      ]
     },
     "metadata": {
      "needs_background": "light"
     },
     "output_type": "display_data"
    },
    {
     "data": {
      "text/plain": [
       "<Figure size 1080x1080 with 0 Axes>"
      ]
     },
     "metadata": {},
     "output_type": "display_data"
    }
   ],
   "source": [
    "sns.lineplot(x=df[\"Area\"],y=df[\"Price\"])\n",
    "plt.figure(figsize=(15,15))"
   ]
  },
  {
   "cell_type": "code",
   "execution_count": 25,
   "metadata": {},
   "outputs": [
    {
     "data": {
      "text/plain": [
       "<AxesSubplot:xlabel='Resale', ylabel='Price'>"
      ]
     },
     "execution_count": 25,
     "metadata": {},
     "output_type": "execute_result"
    },
    {
     "data": {
      "image/png": "[encoded data removed]",
      "text/plain": [
       "<Figure size 432x288 with 1 Axes>"
      ]
     },
     "metadata": {
      "needs_background": "light"
     },
     "output_type": "display_data"
    }
   ],
   "source": [
    "sns.barplot(x=df[\"Resale\"],y=df[\"Price\"])"
   ]
  },
  {
   "cell_type": "code",
   "execution_count": 26,
   "metadata": {},
   "outputs": [
    {
     "data": {
      "text/plain": [
       "<AxesSubplot:xlabel='Resale', ylabel='count'>"
      ]
     },
     "execution_count": 26,
     "metadata": {},
     "output_type": "execute_result"
    },
    {
     "data": {
      "image/png": "[encoded data removed]",
      "text/plain": [
       "<Figure size 432x288 with 1 Axes>"
      ]
     },
     "metadata": {
      "needs_background": "light"
     },
     "output_type": "display_data"
    }
   ],
   "source": [
    "sns.countplot(data=df,x=\"Resale\")"
   ]
  },
  {
   "cell_type": "code",
   "execution_count": 27,
   "metadata": {},
   "outputs": [
    {
     "data": {
      "text/plain": [
       "<seaborn.axisgrid.FacetGrid at 0x12179a45190>"
      ]
     },
     "execution_count": 27,
     "metadata": {},
     "output_type": "execute_result"
    },
    {
     "data": {
      "image/png": "[encoded data removed]",
      "text/plain": [
       "<Figure size 360x360 with 1 Axes>"
      ]
     },
     "metadata": {
      "needs_background": "light"
     },
     "output_type": "display_data"
    }
   ],
   "source": [
    "sns.displot(data=df,x='Area',kde=True)"
   ]
  },
  {
   "cell_type": "code",
   "execution_count": 28,
   "metadata": {},
   "outputs": [
    {
     "data": {
      "text/plain": [
       "<seaborn.axisgrid.FacetGrid at 0x12179a4c970>"
      ]
     },
     "execution_count": 28,
     "metadata": {},
     "output_type": "execute_result"
    },
    {
     "data": {
      "image/png": "[encoded data removed]",
      "text/plain": [
       "<Figure size 402.375x360 with 1 Axes>"
      ]
     },
     "metadata": {
      "needs_background": "light"
     },
     "output_type": "display_data"
    }
   ],
   "source": [
    "sns.displot(data=df,x=\"Price\",hue=\"Resale\",kind=\"kde\")"
   ]
  },
  {
   "cell_type": "code",
   "execution_count": 29,
   "metadata": {},
   "outputs": [
    {
     "data": {
      "text/plain": [
       "<seaborn.axisgrid.JointGrid at 0x12179cc5f40>"
      ]
     },
     "execution_count": 29,
     "metadata": {},
     "output_type": "execute_result"
    },
    {
     "data": {
      "image/png": "[encoded data removed]",
      "text/plain": [
       "<Figure size 432x432 with 3 Axes>"
      ]
     },
     "metadata": {
      "needs_background": "light"
     },
     "output_type": "display_data"
    }
   ],
   "source": [
    "sns.jointplot(y=df['Area'],x=df[\"Price\"],kind=\"kde\")"
   ]
  },
  {
   "cell_type": "code",
   "execution_count": 30,
   "metadata": {},
   "outputs": [
    {
     "data": {
      "text/plain": [
       "<seaborn.axisgrid.JointGrid at 0x12179b49d60>"
      ]
     },
     "execution_count": 30,
     "metadata": {},
     "output_type": "execute_result"
    },
    {
     "data": {
      "image/png": "[encoded data removed]",
      "text/plain": [
       "<Figure size 432x432 with 3 Axes>"
      ]
     },
     "metadata": {
      "needs_background": "light"
     },
     "output_type": "display_data"
    }
   ],
   "source": [
    "sns.jointplot(y=df['No. of Bedrooms'],x=df[\"Price\"],kind=\"kde\")"
   ]
  },
  {
   "cell_type": "markdown",
   "metadata": {},
   "source": [
    "### From the analysis we can say that:\n",
    "#### Price of houses which have 1 or 2 Bedrooms differs in less amount\n",
    "\n",
    "#### There is a gradual noticible change(exponential change) in price of houses having 2,3 or 4 Bedrooms\n",
    "\n",
    "#### There is a spike in price even though the area of the house is less because of posh location\n",
    "\n",
    "#### The price of house depends on area and location of house \n"
   ]
  },
  {
   "cell_type": "markdown",
   "metadata": {},
   "source": [
    "## Ordinal Coding for Categorical Values"
   ]
  },
  {
   "cell_type": "code",
   "execution_count": 31,
   "metadata": {},
   "outputs": [
    {
     "data": {
      "text/html": [
       "<div>\n",
       "<style scoped>\n",
       "    .dataframe tbody tr th:only-of-type {\n",
       "        vertical-align: middle;\n",
       "    }\n",
       "\n",
       "    .dataframe tbody tr th {\n",
       "        vertical-align: top;\n",
       "    }\n",
       "\n",
       "    .dataframe thead th {\n",
       "        text-align: right;\n",
       "    }\n",
       "</style>\n",
       "<table border=\"1\" class=\"dataframe\">\n",
       "  <thead>\n",
       "    <tr style=\"text-align: right;\">\n",
       "      <th></th>\n",
       "      <th>Location</th>\n",
       "      <th>Location_code</th>\n",
       "    </tr>\n",
       "  </thead>\n",
       "  <tbody>\n",
       "    <tr>\n",
       "      <th>0</th>\n",
       "      <td>Perungalathur</td>\n",
       "      <td>97.0</td>\n",
       "    </tr>\n",
       "    <tr>\n",
       "      <th>1</th>\n",
       "      <td>Madhavaram</td>\n",
       "      <td>60.0</td>\n",
       "    </tr>\n",
       "    <tr>\n",
       "      <th>2</th>\n",
       "      <td>Karapakkam</td>\n",
       "      <td>40.0</td>\n",
       "    </tr>\n",
       "    <tr>\n",
       "      <th>3</th>\n",
       "      <td>Thiruvidandhai</td>\n",
       "      <td>130.0</td>\n",
       "    </tr>\n",
       "    <tr>\n",
       "      <th>4</th>\n",
       "      <td>Iyappanthangal</td>\n",
       "      <td>35.0</td>\n",
       "    </tr>\n",
       "    <tr>\n",
       "      <th>5</th>\n",
       "      <td>Mevalurkuppam</td>\n",
       "      <td>71.0</td>\n",
       "    </tr>\n",
       "    <tr>\n",
       "      <th>6</th>\n",
       "      <td>Kolapakkam</td>\n",
       "      <td>48.0</td>\n",
       "    </tr>\n",
       "    <tr>\n",
       "      <th>7</th>\n",
       "      <td>Kundrathur</td>\n",
       "      <td>57.0</td>\n",
       "    </tr>\n",
       "    <tr>\n",
       "      <th>8</th>\n",
       "      <td>Pammal</td>\n",
       "      <td>91.0</td>\n",
       "    </tr>\n",
       "    <tr>\n",
       "      <th>9</th>\n",
       "      <td>Puzhal</td>\n",
       "      <td>104.0</td>\n",
       "    </tr>\n",
       "    <tr>\n",
       "      <th>10</th>\n",
       "      <td>Selaiyur</td>\n",
       "      <td>111.0</td>\n",
       "    </tr>\n",
       "  </tbody>\n",
       "</table>\n",
       "</div>"
      ],
      "text/plain": [
       "          Location  Location_code\n",
       "0    Perungalathur           97.0\n",
       "1       Madhavaram           60.0\n",
       "2       Karapakkam           40.0\n",
       "3   Thiruvidandhai          130.0\n",
       "4   Iyappanthangal           35.0\n",
       "5    Mevalurkuppam           71.0\n",
       "6       Kolapakkam           48.0\n",
       "7       Kundrathur           57.0\n",
       "8           Pammal           91.0\n",
       "9           Puzhal          104.0\n",
       "10        Selaiyur          111.0"
      ]
     },
     "execution_count": 31,
     "metadata": {},
     "output_type": "execute_result"
    }
   ],
   "source": [
    "from sklearn.preprocessing import OrdinalEncoder\n",
    "\n",
    "ord_enc = OrdinalEncoder()\n",
    "df[\"Location_code\"] = ord_enc.fit_transform(df[[\"Location\"]])\n",
    "df[[\"Location\", \"Location_code\"]].head(11)"
   ]
  },
  {
   "cell_type": "code",
   "execution_count": 32,
   "metadata": {},
   "outputs": [],
   "source": [
    "New_data=df.copy()\n",
    "df.to_csv(\"New\")"
   ]
  },
  {
   "cell_type": "code",
   "execution_count": 33,
   "metadata": {},
   "outputs": [
    {
     "data": {
      "text/html": [
       "<div>\n",
       "<style scoped>\n",
       "    .dataframe tbody tr th:only-of-type {\n",
       "        vertical-align: middle;\n",
       "    }\n",
       "\n",
       "    .dataframe tbody tr th {\n",
       "        vertical-align: top;\n",
       "    }\n",
       "\n",
       "    .dataframe thead th {\n",
       "        text-align: right;\n",
       "    }\n",
       "</style>\n",
       "<table border=\"1\" class=\"dataframe\">\n",
       "  <thead>\n",
       "    <tr style=\"text-align: right;\">\n",
       "      <th></th>\n",
       "      <th>Price</th>\n",
       "      <th>Area</th>\n",
       "      <th>Location</th>\n",
       "      <th>No. of Bedrooms</th>\n",
       "      <th>Resale</th>\n",
       "      <th>Location_code</th>\n",
       "    </tr>\n",
       "  </thead>\n",
       "  <tbody>\n",
       "    <tr>\n",
       "      <th>0</th>\n",
       "      <td>5500000</td>\n",
       "      <td>1310</td>\n",
       "      <td>Perungalathur</td>\n",
       "      <td>3</td>\n",
       "      <td>0</td>\n",
       "      <td>97.0</td>\n",
       "    </tr>\n",
       "    <tr>\n",
       "      <th>1</th>\n",
       "      <td>5350000</td>\n",
       "      <td>1126</td>\n",
       "      <td>Madhavaram</td>\n",
       "      <td>2</td>\n",
       "      <td>0</td>\n",
       "      <td>60.0</td>\n",
       "    </tr>\n",
       "    <tr>\n",
       "      <th>2</th>\n",
       "      <td>8205000</td>\n",
       "      <td>1307</td>\n",
       "      <td>Karapakkam</td>\n",
       "      <td>3</td>\n",
       "      <td>0</td>\n",
       "      <td>40.0</td>\n",
       "    </tr>\n",
       "    <tr>\n",
       "      <th>3</th>\n",
       "      <td>23400000</td>\n",
       "      <td>3600</td>\n",
       "      <td>Thiruvidandhai</td>\n",
       "      <td>3</td>\n",
       "      <td>0</td>\n",
       "      <td>130.0</td>\n",
       "    </tr>\n",
       "    <tr>\n",
       "      <th>4</th>\n",
       "      <td>10100000</td>\n",
       "      <td>1700</td>\n",
       "      <td>Iyappanthangal</td>\n",
       "      <td>3</td>\n",
       "      <td>0</td>\n",
       "      <td>35.0</td>\n",
       "    </tr>\n",
       "  </tbody>\n",
       "</table>\n",
       "</div>"
      ],
      "text/plain": [
       "      Price  Area        Location  No. of Bedrooms  Resale  Location_code\n",
       "0   5500000  1310   Perungalathur                3       0           97.0\n",
       "1   5350000  1126      Madhavaram                2       0           60.0\n",
       "2   8205000  1307      Karapakkam                3       0           40.0\n",
       "3  23400000  3600  Thiruvidandhai                3       0          130.0\n",
       "4  10100000  1700  Iyappanthangal                3       0           35.0"
      ]
     },
     "execution_count": 33,
     "metadata": {},
     "output_type": "execute_result"
    }
   ],
   "source": [
    "New_data.head()"
   ]
  },
  {
   "cell_type": "code",
   "execution_count": 34,
   "metadata": {},
   "outputs": [],
   "source": [
    "New_data.drop(\"Location\",axis=\"columns\",inplace=True)\n"
   ]
  },
  {
   "cell_type": "markdown",
   "metadata": {},
   "source": [
    "### Train set - Test set splitting"
   ]
  },
  {
   "cell_type": "code",
   "execution_count": 35,
   "metadata": {},
   "outputs": [
    {
     "data": {
      "text/html": [
       "<div>\n",
       "<style scoped>\n",
       "    .dataframe tbody tr th:only-of-type {\n",
       "        vertical-align: middle;\n",
       "    }\n",
       "\n",
       "    .dataframe tbody tr th {\n",
       "        vertical-align: top;\n",
       "    }\n",
       "\n",
       "    .dataframe thead th {\n",
       "        text-align: right;\n",
       "    }\n",
       "</style>\n",
       "<table border=\"1\" class=\"dataframe\">\n",
       "  <thead>\n",
       "    <tr style=\"text-align: right;\">\n",
       "      <th></th>\n",
       "      <th>Price</th>\n",
       "      <th>Area</th>\n",
       "      <th>No. of Bedrooms</th>\n",
       "      <th>Resale</th>\n",
       "      <th>Location_code</th>\n",
       "    </tr>\n",
       "  </thead>\n",
       "  <tbody>\n",
       "    <tr>\n",
       "      <th>2431</th>\n",
       "      <td>5737000</td>\n",
       "      <td>927</td>\n",
       "      <td>2</td>\n",
       "      <td>0</td>\n",
       "      <td>6.0</td>\n",
       "    </tr>\n",
       "    <tr>\n",
       "      <th>2229</th>\n",
       "      <td>26600000</td>\n",
       "      <td>1540</td>\n",
       "      <td>3</td>\n",
       "      <td>0</td>\n",
       "      <td>10.0</td>\n",
       "    </tr>\n",
       "    <tr>\n",
       "      <th>2428</th>\n",
       "      <td>20000000</td>\n",
       "      <td>1215</td>\n",
       "      <td>3</td>\n",
       "      <td>0</td>\n",
       "      <td>10.0</td>\n",
       "    </tr>\n",
       "    <tr>\n",
       "      <th>80</th>\n",
       "      <td>9086000</td>\n",
       "      <td>1298</td>\n",
       "      <td>3</td>\n",
       "      <td>0</td>\n",
       "      <td>143.0</td>\n",
       "    </tr>\n",
       "    <tr>\n",
       "      <th>806</th>\n",
       "      <td>2850000</td>\n",
       "      <td>750</td>\n",
       "      <td>1</td>\n",
       "      <td>0</td>\n",
       "      <td>76.0</td>\n",
       "    </tr>\n",
       "    <tr>\n",
       "      <th>...</th>\n",
       "      <td>...</td>\n",
       "      <td>...</td>\n",
       "      <td>...</td>\n",
       "      <td>...</td>\n",
       "      <td>...</td>\n",
       "    </tr>\n",
       "    <tr>\n",
       "      <th>4463</th>\n",
       "      <td>15500000</td>\n",
       "      <td>1479</td>\n",
       "      <td>3</td>\n",
       "      <td>0</td>\n",
       "      <td>139.0</td>\n",
       "    </tr>\n",
       "    <tr>\n",
       "      <th>469</th>\n",
       "      <td>2675000</td>\n",
       "      <td>677</td>\n",
       "      <td>2</td>\n",
       "      <td>0</td>\n",
       "      <td>14.0</td>\n",
       "    </tr>\n",
       "    <tr>\n",
       "      <th>3111</th>\n",
       "      <td>6096000</td>\n",
       "      <td>881</td>\n",
       "      <td>2</td>\n",
       "      <td>0</td>\n",
       "      <td>111.0</td>\n",
       "    </tr>\n",
       "    <tr>\n",
       "      <th>3802</th>\n",
       "      <td>5965000</td>\n",
       "      <td>721</td>\n",
       "      <td>2</td>\n",
       "      <td>0</td>\n",
       "      <td>6.0</td>\n",
       "    </tr>\n",
       "    <tr>\n",
       "      <th>863</th>\n",
       "      <td>4000000</td>\n",
       "      <td>748</td>\n",
       "      <td>2</td>\n",
       "      <td>0</td>\n",
       "      <td>70.0</td>\n",
       "    </tr>\n",
       "  </tbody>\n",
       "</table>\n",
       "<p>3973 rows × 5 columns</p>\n",
       "</div>"
      ],
      "text/plain": [
       "         Price  Area  No. of Bedrooms  Resale  Location_code\n",
       "2431   5737000   927                2       0            6.0\n",
       "2229  26600000  1540                3       0           10.0\n",
       "2428  20000000  1215                3       0           10.0\n",
       "80     9086000  1298                3       0          143.0\n",
       "806    2850000   750                1       0           76.0\n",
       "...        ...   ...              ...     ...            ...\n",
       "4463  15500000  1479                3       0          139.0\n",
       "469    2675000   677                2       0           14.0\n",
       "3111   6096000   881                2       0          111.0\n",
       "3802   5965000   721                2       0            6.0\n",
       "863    4000000   748                2       0           70.0\n",
       "\n",
       "[3973 rows x 5 columns]"
      ]
     },
     "execution_count": 35,
     "metadata": {},
     "output_type": "execute_result"
    }
   ],
   "source": [
    "from sklearn.model_selection import train_test_split\n",
    "train_set, test_set = train_test_split(New_data, test_size=0.2, random_state=42)\n",
    "train_set"
   ]
  },
  {
   "cell_type": "code",
   "execution_count": 36,
   "metadata": {},
   "outputs": [],
   "source": [
    "y_train=train_set.Price\n",
    "y_test=test_set.Price"
   ]
  },
  {
   "cell_type": "code",
   "execution_count": 37,
   "metadata": {},
   "outputs": [],
   "source": [
    "train_set.drop(\"Price\",axis=1)\n",
    "test_set.drop(\"Price\",axis=1)\n",
    "X_train=train_set\n",
    "X_test=test_set\n",
    "\n"
   ]
  },
  {
   "cell_type": "code",
   "execution_count": 38,
   "metadata": {},
   "outputs": [
    {
     "data": {
      "text/html": [
       "<div>\n",
       "<style scoped>\n",
       "    .dataframe tbody tr th:only-of-type {\n",
       "        vertical-align: middle;\n",
       "    }\n",
       "\n",
       "    .dataframe tbody tr th {\n",
       "        vertical-align: top;\n",
       "    }\n",
       "\n",
       "    .dataframe thead th {\n",
       "        text-align: right;\n",
       "    }\n",
       "</style>\n",
       "<table border=\"1\" class=\"dataframe\">\n",
       "  <thead>\n",
       "    <tr style=\"text-align: right;\">\n",
       "      <th></th>\n",
       "      <th>Price</th>\n",
       "      <th>Area</th>\n",
       "      <th>No. of Bedrooms</th>\n",
       "      <th>Resale</th>\n",
       "      <th>Location_code</th>\n",
       "    </tr>\n",
       "  </thead>\n",
       "  <tbody>\n",
       "    <tr>\n",
       "      <th>2431</th>\n",
       "      <td>5737000</td>\n",
       "      <td>927</td>\n",
       "      <td>2</td>\n",
       "      <td>0</td>\n",
       "      <td>6.0</td>\n",
       "    </tr>\n",
       "    <tr>\n",
       "      <th>2229</th>\n",
       "      <td>26600000</td>\n",
       "      <td>1540</td>\n",
       "      <td>3</td>\n",
       "      <td>0</td>\n",
       "      <td>10.0</td>\n",
       "    </tr>\n",
       "    <tr>\n",
       "      <th>2428</th>\n",
       "      <td>20000000</td>\n",
       "      <td>1215</td>\n",
       "      <td>3</td>\n",
       "      <td>0</td>\n",
       "      <td>10.0</td>\n",
       "    </tr>\n",
       "    <tr>\n",
       "      <th>80</th>\n",
       "      <td>9086000</td>\n",
       "      <td>1298</td>\n",
       "      <td>3</td>\n",
       "      <td>0</td>\n",
       "      <td>143.0</td>\n",
       "    </tr>\n",
       "    <tr>\n",
       "      <th>806</th>\n",
       "      <td>2850000</td>\n",
       "      <td>750</td>\n",
       "      <td>1</td>\n",
       "      <td>0</td>\n",
       "      <td>76.0</td>\n",
       "    </tr>\n",
       "    <tr>\n",
       "      <th>...</th>\n",
       "      <td>...</td>\n",
       "      <td>...</td>\n",
       "      <td>...</td>\n",
       "      <td>...</td>\n",
       "      <td>...</td>\n",
       "    </tr>\n",
       "    <tr>\n",
       "      <th>4463</th>\n",
       "      <td>15500000</td>\n",
       "      <td>1479</td>\n",
       "      <td>3</td>\n",
       "      <td>0</td>\n",
       "      <td>139.0</td>\n",
       "    </tr>\n",
       "    <tr>\n",
       "      <th>469</th>\n",
       "      <td>2675000</td>\n",
       "      <td>677</td>\n",
       "      <td>2</td>\n",
       "      <td>0</td>\n",
       "      <td>14.0</td>\n",
       "    </tr>\n",
       "    <tr>\n",
       "      <th>3111</th>\n",
       "      <td>6096000</td>\n",
       "      <td>881</td>\n",
       "      <td>2</td>\n",
       "      <td>0</td>\n",
       "      <td>111.0</td>\n",
       "    </tr>\n",
       "    <tr>\n",
       "      <th>3802</th>\n",
       "      <td>5965000</td>\n",
       "      <td>721</td>\n",
       "      <td>2</td>\n",
       "      <td>0</td>\n",
       "      <td>6.0</td>\n",
       "    </tr>\n",
       "    <tr>\n",
       "      <th>863</th>\n",
       "      <td>4000000</td>\n",
       "      <td>748</td>\n",
       "      <td>2</td>\n",
       "      <td>0</td>\n",
       "      <td>70.0</td>\n",
       "    </tr>\n",
       "  </tbody>\n",
       "</table>\n",
       "<p>3973 rows × 5 columns</p>\n",
       "</div>"
      ],
      "text/plain": [
       "         Price  Area  No. of Bedrooms  Resale  Location_code\n",
       "2431   5737000   927                2       0            6.0\n",
       "2229  26600000  1540                3       0           10.0\n",
       "2428  20000000  1215                3       0           10.0\n",
       "80     9086000  1298                3       0          143.0\n",
       "806    2850000   750                1       0           76.0\n",
       "...        ...   ...              ...     ...            ...\n",
       "4463  15500000  1479                3       0          139.0\n",
       "469    2675000   677                2       0           14.0\n",
       "3111   6096000   881                2       0          111.0\n",
       "3802   5965000   721                2       0            6.0\n",
       "863    4000000   748                2       0           70.0\n",
       "\n",
       "[3973 rows x 5 columns]"
      ]
     },
     "execution_count": 38,
     "metadata": {},
     "output_type": "execute_result"
    }
   ],
   "source": [
    "X_train"
   ]
  },
  {
   "cell_type": "markdown",
   "metadata": {},
   "source": [
    "# Model Training"
   ]
  },
  {
   "cell_type": "markdown",
   "metadata": {},
   "source": [
    "### Random Forest Regressor"
   ]
  },
  {
   "cell_type": "code",
   "execution_count": 39,
   "metadata": {},
   "outputs": [
    {
     "data": {
      "text/plain": [
       "RandomForestRegressor(n_estimators=350)"
      ]
     },
     "execution_count": 39,
     "metadata": {},
     "output_type": "execute_result"
    }
   ],
   "source": [
    "from sklearn.ensemble import RandomForestRegressor\n",
    "my_model= RandomForestRegressor(n_estimators=350)\n",
    "my_model.fit(X_train,y_train)"
   ]
  },
  {
   "cell_type": "markdown",
   "metadata": {},
   "source": [
    "##### Prediction and Testing on Test set"
   ]
  },
  {
   "cell_type": "code",
   "execution_count": 40,
   "metadata": {},
   "outputs": [],
   "source": [
    "predict=my_model.predict(X_test)"
   ]
  },
  {
   "cell_type": "code",
   "execution_count": 41,
   "metadata": {},
   "outputs": [
    {
     "data": {
      "text/plain": [
       "108636.02589824659"
      ]
     },
     "execution_count": 41,
     "metadata": {},
     "output_type": "execute_result"
    }
   ],
   "source": [
    "from sklearn.metrics import mean_absolute_error\n",
    "mean_absolute_error(predict,y_test)"
   ]
  },
  {
   "cell_type": "markdown",
   "metadata": {},
   "source": [
    "#### Prediction and Testing on Training set"
   ]
  },
  {
   "cell_type": "code",
   "execution_count": 42,
   "metadata": {},
   "outputs": [],
   "source": [
    "predict1=my_model.predict(X_train)"
   ]
  },
  {
   "cell_type": "code",
   "execution_count": 43,
   "metadata": {},
   "outputs": [
    {
     "data": {
      "text/plain": [
       "8815.389838553094"
      ]
     },
     "execution_count": 43,
     "metadata": {},
     "output_type": "execute_result"
    }
   ],
   "source": [
    "mean_absolute_error(predict1,y_train)"
   ]
  }
 ],
 "metadata": {
  "kernelspec": {
   "display_name": "Python 3",
   "language": "python",
   "name": "python3"
  },
  "language_info": {
   "codemirror_mode": {
    "name": "ipython",
    "version": 3
   },
   "file_extension": ".py",
   "mimetype": "text/x-python",
   "name": "python",
   "nbconvert_exporter": "python",
   "pygments_lexer": "ipython3",
   "version": "3.8.5"
  }
 },
 "nbformat": 4,
 "nbformat_minor": 4
}
